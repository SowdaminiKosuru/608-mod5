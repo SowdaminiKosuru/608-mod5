{
 "cells": [
  {
   "cell_type": "markdown",
   "id": "ff90ea96-358d-405d-8415-b7279b7996cb",
   "metadata": {},
   "source": [
    "<style>\n",
    "td {\n",
    "  font-size: 250px\n",
    "}\n",
    "</style>\n",
    "Sowdamini's Work"
   ]
  },
  {
   "cell_type": "code",
   "execution_count": 1,
   "id": "a9ad04e3-a33b-441d-9a11-c0e9ec07fe6e",
   "metadata": {},
   "outputs": [
    {
     "name": "stdout",
     "output_type": "stream",
     "text": [
      "grades[0] : 87\n"
     ]
    }
   ],
   "source": [
    "import pandas as pd\n",
    "grades = pd.Series([87, 100, 94])\n",
    "print(\"grades[0] :\",grades[0])"
   ]
  },
  {
   "cell_type": "code",
   "execution_count": 2,
   "id": "c4fa190b-473d-4a90-b650-318476502e18",
   "metadata": {},
   "outputs": [
    {
     "name": "stdout",
     "output_type": "stream",
     "text": [
      "grades.count() : 3\n",
      "grades.mean() : 93.66666666666667\n",
      "grades.min() : 87\n",
      "grades.max() : 100\n",
      "grades.std() : 6.506407098647712\n",
      "grades.describe() : count      3.000000\n",
      "mean      93.666667\n",
      "std        6.506407\n",
      "min       87.000000\n",
      "25%       90.500000\n",
      "50%       94.000000\n",
      "75%       97.000000\n",
      "max      100.000000\n",
      "dtype: float64\n"
     ]
    }
   ],
   "source": [
    "print(\"grades.count() :\",grades.count())\n",
    "print(\"grades.mean() :\",grades.mean())\n",
    "print(\"grades.min() :\",grades.min())\n",
    "print(\"grades.max() :\",grades.max())\n",
    "print(\"grades.std() :\",grades.std())\n",
    "print(\"grades.describe() :\",grades.describe())"
   ]
  },
  {
   "cell_type": "code",
   "execution_count": 3,
   "id": "b0d71f95-048e-4fdf-92e8-7c8046d5ac28",
   "metadata": {},
   "outputs": [
    {
     "data": {
      "text/plain": [
       "Wally     87\n",
       "Eva      100\n",
       "Sam       94\n",
       "dtype: int64"
      ]
     },
     "execution_count": 3,
     "metadata": {},
     "output_type": "execute_result"
    }
   ],
   "source": [
    "grades = pd.Series([87, 100, 94], index = ['Wally', 'Eva', 'Sam'])\n",
    "grades"
   ]
  },
  {
   "cell_type": "code",
   "execution_count": 4,
   "id": "2186a0d7-b8b2-47e7-bf2f-c3d3ed92c41c",
   "metadata": {},
   "outputs": [
    {
     "name": "stdout",
     "output_type": "stream",
     "text": [
      "grades : Wally    86\n",
      "Eva      97\n",
      "Sam      74\n",
      "dtype: int64\n",
      "grades[Eva] : 97\n",
      "grades.Wally : 86\n",
      "grades.dtype : int64\n",
      "grades.values : [86 97 74]\n"
     ]
    }
   ],
   "source": [
    "grades = pd.Series({'Wally': 86, 'Eva': 97, 'Sam': 74})\n",
    "print(\"grades :\",grades)\n",
    "print(\"grades[Eva] :\",grades['Eva'])\n",
    "print(\"grades.Wally :\",grades.Wally)\n",
    "print(\"grades.dtype :\",grades.dtype)\n",
    "print(\"grades.values :\",grades.values)"
   ]
  },
  {
   "cell_type": "code",
   "execution_count": null,
   "id": "f996e4d8-6269-4e2e-aec0-6a28befe158d",
   "metadata": {},
   "outputs": [],
   "source": []
  },
  {
   "cell_type": "code",
   "execution_count": null,
   "id": "dfe72e00-5131-4c14-9672-dd8615ce6c4b",
   "metadata": {},
   "outputs": [],
   "source": []
  },
  {
   "cell_type": "code",
   "execution_count": null,
   "id": "789b831e-1c92-481a-a81f-9a74dc587bc3",
   "metadata": {},
   "outputs": [],
   "source": []
  },
  {
   "cell_type": "code",
   "execution_count": null,
   "id": "b8a775a1-fe17-42a0-8c18-e19bc5e35486",
   "metadata": {},
   "outputs": [],
   "source": []
  },
  {
   "cell_type": "code",
   "execution_count": null,
   "id": "0f4c700b-c896-47ba-ae5e-af98e612c7cf",
   "metadata": {},
   "outputs": [],
   "source": []
  },
  {
   "cell_type": "code",
   "execution_count": null,
   "id": "01465ff2-d53f-4682-b139-bdb203d234ce",
   "metadata": {},
   "outputs": [],
   "source": []
  },
  {
   "cell_type": "code",
   "execution_count": null,
   "id": "25233521-a9dc-43a8-acba-ef7564ae5fbe",
   "metadata": {},
   "outputs": [],
   "source": []
  },
  {
   "cell_type": "code",
   "execution_count": null,
   "id": "10f6b33b-92ff-4e19-9c0d-ce43a9b874a5",
   "metadata": {},
   "outputs": [],
   "source": []
  },
  {
   "cell_type": "code",
   "execution_count": null,
   "id": "7fd983bd-4235-4c76-9a41-e36d1170d9bf",
   "metadata": {},
   "outputs": [],
   "source": []
  }
 ],
 "metadata": {
  "kernelspec": {
   "display_name": "Python 3 (ipykernel)",
   "language": "python",
   "name": "python3"
  },
  "language_info": {
   "codemirror_mode": {
    "name": "ipython",
    "version": 3
   },
   "file_extension": ".py",
   "mimetype": "text/x-python",
   "name": "python",
   "nbconvert_exporter": "python",
   "pygments_lexer": "ipython3",
   "version": "3.9.12"
  }
 },
 "nbformat": 4,
 "nbformat_minor": 5
}
