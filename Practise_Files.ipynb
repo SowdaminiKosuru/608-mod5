{
 "cells": [
  {
   "cell_type": "code",
   "execution_count": 1,
   "id": "08dbc88e-2d55-49e9-bbe8-a5ff584944c9",
   "metadata": {},
   "outputs": [],
   "source": [
    "import numpy as np"
   ]
  },
  {
   "cell_type": "code",
   "execution_count": 2,
   "id": "0d583415-b9f0-4d85-af42-dc2f5bad999a",
   "metadata": {},
   "outputs": [],
   "source": [
    "numbers = np.array([2, 3, 5, 7, 11])"
   ]
  },
  {
   "cell_type": "code",
   "execution_count": 3,
   "id": "bb5961a5-8282-47fa-8fe8-dc61f0393d05",
   "metadata": {},
   "outputs": [
    {
     "data": {
      "text/plain": [
       "numpy.ndarray"
      ]
     },
     "execution_count": 3,
     "metadata": {},
     "output_type": "execute_result"
    }
   ],
   "source": [
    "type(numbers)"
   ]
  },
  {
   "cell_type": "code",
   "execution_count": 4,
   "id": "1268abf0-1e12-4ad3-aa3d-15c0c701b3cf",
   "metadata": {},
   "outputs": [
    {
     "data": {
      "text/plain": [
       "array([ 2,  3,  5,  7, 11])"
      ]
     },
     "execution_count": 4,
     "metadata": {},
     "output_type": "execute_result"
    }
   ],
   "source": [
    "numbers"
   ]
  },
  {
   "cell_type": "code",
   "execution_count": 5,
   "id": "94cac1dc-461a-49c8-8b77-97a4da99eb47",
   "metadata": {},
   "outputs": [
    {
     "data": {
      "text/plain": [
       "array([[1, 2, 3],\n",
       "       [4, 5, 6],\n",
       "       [7, 8, 9]])"
      ]
     },
     "execution_count": 5,
     "metadata": {},
     "output_type": "execute_result"
    }
   ],
   "source": [
    "np.array([[1,2,3],[4,5,6],[7,8,9]])"
   ]
  },
  {
   "cell_type": "code",
   "execution_count": 6,
   "id": "abeea91c-f821-4aaf-848c-ca226f991e6d",
   "metadata": {},
   "outputs": [
    {
     "data": {
      "text/plain": [
       "array([ 2,  4,  6,  8, 10, 12, 14, 16, 18, 20])"
      ]
     },
     "execution_count": 6,
     "metadata": {},
     "output_type": "execute_result"
    }
   ],
   "source": [
    "np.array([x for x in range(2,21,2)])"
   ]
  },
  {
   "cell_type": "code",
   "execution_count": 7,
   "id": "07200eaa-db75-403e-b437-222eff8df556",
   "metadata": {},
   "outputs": [
    {
     "data": {
      "text/plain": [
       "array([[ 2,  4,  6,  8, 10],\n",
       "       [ 1,  3,  5,  7,  9]])"
      ]
     },
     "execution_count": 7,
     "metadata": {},
     "output_type": "execute_result"
    }
   ],
   "source": [
    "np.array([[2,4,6,8,10],[1,3,5,7,9]])"
   ]
  },
  {
   "cell_type": "markdown",
   "id": "79cd6eb8-20d2-425a-ba72-a0ccbeaa5f83",
   "metadata": {},
   "source": [
    "<style>\n",
    "td {\n",
    "  font-size: 500px\n",
    "}\n",
    "</style>\n",
    "#Array Attributes - 7.3"
   ]
  },
  {
   "cell_type": "code",
   "execution_count": 8,
   "id": "eddf559e-8a1e-4f62-bd21-a488d28e7c1d",
   "metadata": {},
   "outputs": [
    {
     "name": "stdout",
     "output_type": "stream",
     "text": [
      "floats : [0.  0.1 0.2 0.3 0.4]\n",
      "dtype : float64\n"
     ]
    }
   ],
   "source": [
    "floats = np.array([0.0, 0.1, 0.2, 0.3,0.4])\n",
    "print(\"floats :\",floats)\n",
    "print(\"dtype :\",floats.dtype)"
   ]
  },
  {
   "cell_type": "code",
   "execution_count": 9,
   "id": "631b2588-31eb-4a3f-83d7-82fc6cb7ecdf",
   "metadata": {},
   "outputs": [
    {
     "name": "stdout",
     "output_type": "stream",
     "text": [
      "integers :  [[1 2 3]\n",
      " [4 5 6]]\n",
      "dtype : int32\n"
     ]
    }
   ],
   "source": [
    "integers = np.array([[1, 2, 3], [4, 5,6]])\n",
    "print(\"integers : \", integers)\n",
    "print(\"dtype :\",integers.dtype)"
   ]
  },
  {
   "cell_type": "code",
   "execution_count": 10,
   "id": "e140c7bb-b49b-47c9-a3c8-fe28fb2b1d39",
   "metadata": {},
   "outputs": [
    {
     "name": "stdout",
     "output_type": "stream",
     "text": [
      "integers.ndim : 2\n",
      "floats.ndim : 1\n",
      "integers.shape : (2, 3)\n",
      "floats.shape : (5,)\n",
      "integers.size : 6\n",
      "integers.itemsize : 4\n",
      "floats.size : 5\n",
      "floats.itemsize : 8\n"
     ]
    }
   ],
   "source": [
    "print(\"integers.ndim :\",integers.ndim)\n",
    "print(\"floats.ndim :\",floats.ndim)\n",
    "print(\"integers.shape :\",integers.shape)\n",
    "print(\"floats.shape :\",floats.shape)\n",
    "print(\"integers.size :\",integers.size)\n",
    "print(\"integers.itemsize :\",integers.itemsize) # 4 if C compiler uses 32-bit ints\n",
    "print(\"floats.size :\",floats.size)\n",
    "print(\"floats.itemsize :\",floats.itemsize)"
   ]
  },
  {
   "cell_type": "code",
   "execution_count": 11,
   "id": "a582bea5-65b8-4791-bc90-584d0edd6bfb",
   "metadata": {},
   "outputs": [
    {
     "name": "stdout",
     "output_type": "stream",
     "text": [
      "1 2 3 \n",
      "4 5 6 \n"
     ]
    }
   ],
   "source": [
    "for row in integers:\n",
    "    for column in row:\n",
    "        print(column, end=' ')\n",
    "    print()"
   ]
  },
  {
   "cell_type": "code",
   "execution_count": 12,
   "id": "064e4fcf-f11f-4569-8b69-6bccda716ca7",
   "metadata": {},
   "outputs": [
    {
     "name": "stdout",
     "output_type": "stream",
     "text": [
      "1 2 3 4 5 6 "
     ]
    }
   ],
   "source": [
    "for i in integers.flat:\n",
    "    print(i, end=' ')"
   ]
  },
  {
   "cell_type": "markdown",
   "id": "eef81135-7159-4b3e-bc36-e7268879254e",
   "metadata": {},
   "source": [
    "# Practise - 7.4"
   ]
  },
  {
   "cell_type": "code",
   "execution_count": 13,
   "id": "839aac16-5ebb-430d-822e-e54b0f016783",
   "metadata": {},
   "outputs": [
    {
     "data": {
      "text/plain": [
       "array([0., 0., 0.])"
      ]
     },
     "execution_count": 13,
     "metadata": {},
     "output_type": "execute_result"
    }
   ],
   "source": [
    "np.zeros(3)"
   ]
  },
  {
   "cell_type": "code",
   "execution_count": 14,
   "id": "8e5b802c-a91b-4c9b-a00f-99e13eafee87",
   "metadata": {},
   "outputs": [
    {
     "data": {
      "text/plain": [
       "array([[1, 1, 1, 1, 1, 1, 1, 1, 1, 1],\n",
       "       [1, 1, 1, 1, 1, 1, 1, 1, 1, 1]])"
      ]
     },
     "execution_count": 14,
     "metadata": {},
     "output_type": "execute_result"
    }
   ],
   "source": [
    "np.ones((2,10),dtype=int)"
   ]
  },
  {
   "cell_type": "code",
   "execution_count": 15,
   "id": "2bfdbf72-a636-4be4-b37b-d5b98b122cb3",
   "metadata": {},
   "outputs": [
    {
     "data": {
      "text/plain": [
       "array([[13, 13, 13, 13, 13],\n",
       "       [13, 13, 13, 13, 13],\n",
       "       [13, 13, 13, 13, 13]])"
      ]
     },
     "execution_count": 15,
     "metadata": {},
     "output_type": "execute_result"
    }
   ],
   "source": [
    "np.full((3,5),13)"
   ]
  },
  {
   "cell_type": "markdown",
   "id": "511e0d3d-735e-4726-9747-e186a97ff737",
   "metadata": {},
   "source": [
    "# Practise - 7.5 "
   ]
  },
  {
   "cell_type": "code",
   "execution_count": 16,
   "id": "608a81f2-1dd4-47ee-849f-ecbccb616267",
   "metadata": {},
   "outputs": [
    {
     "name": "stdout",
     "output_type": "stream",
     "text": [
      "np.arange(6) : [0 1 2 3 4 5]\n",
      "np.arange(6,12) : [ 6  7  8  9 10 11]\n",
      "np.arange(10,1,-2) : [10  8  6  4  2]\n",
      "np.linspace(0.0, 1.0, num=5) : [0.   0.25 0.5  0.75 1.  ]\n",
      "np.arange(1, 21).reshape(4, 5) : [[ 1  2  3  4  5]\n",
      " [ 6  7  8  9 10]\n",
      " [11 12 13 14 15]\n",
      " [16 17 18 19 20]]\n",
      "np.arange(2, 40).reshape(4, 5) : [[ 2  4  6  8 10]\n",
      " [12 14 16 18 20]\n",
      " [22 24 26 28 30]\n",
      " [32 34 36 38 40]]\n"
     ]
    }
   ],
   "source": [
    "print(\"np.arange(6) :\",np.arange(6))\n",
    "print(\"np.arange(6,12) :\",np.arange(6,12))\n",
    "print(\"np.arange(10,1,-2) :\",np.arange(10,1,-2))\n",
    "print(\"np.linspace(0.0, 1.0, num=5) :\",np.linspace(0.0, 1.0, num=5))\n",
    "print(\"np.arange(1, 21).reshape(4, 5) :\",np.arange(1, 21).reshape(4, 5))\n",
    "print(\"np.arange(2, 40).reshape(4, 5) :\",np.arange(2, 41,2).reshape(4, 5))"
   ]
  },
  {
   "cell_type": "markdown",
   "id": "3f700e2c-dad8-4789-ac51-715e1d150bca",
   "metadata": {},
   "source": [
    "# Practise - 7.6 List vs Array"
   ]
  },
  {
   "cell_type": "code",
   "execution_count": 17,
   "id": "5def10cc-9da7-4cab-98dd-e2444e2b2ba6",
   "metadata": {},
   "outputs": [
    {
     "name": "stdout",
     "output_type": "stream",
     "text": [
      "72.2 ms ± 5.95 ms per loop (mean ± std. dev. of 2 runs, 3 loops each)\n"
     ]
    }
   ],
   "source": [
    "%timeit -n3 -r2 rolls_array = np.random.randint(1, 7, 6_000_000)"
   ]
  },
  {
   "cell_type": "code",
   "execution_count": 18,
   "id": "6657aa74-81d6-4ad8-8323-b690168c9b6a",
   "metadata": {},
   "outputs": [
    {
     "name": "stdout",
     "output_type": "stream",
     "text": [
      "893 ms ± 42.5 ms per loop (mean ± std. dev. of 7 runs, 1 loop each)\n"
     ]
    }
   ],
   "source": [
    "%timeit sum([x for x in range(10_000_000)])"
   ]
  },
  {
   "cell_type": "code",
   "execution_count": 19,
   "id": "c6a3ed89-3b05-4e53-9b76-2796620f24eb",
   "metadata": {},
   "outputs": [
    {
     "name": "stdout",
     "output_type": "stream",
     "text": [
      "21 ms ± 1.79 ms per loop (mean ± std. dev. of 7 runs, 10 loops each)\n"
     ]
    }
   ],
   "source": [
    "%timeit np.arange(10_000_000).sum()"
   ]
  },
  {
   "cell_type": "markdown",
   "id": "4d84a92d-138d-415a-a1a4-565a0935c7a9",
   "metadata": {},
   "source": [
    "# Practise - 7.7, 7.8, 7.9"
   ]
  },
  {
   "cell_type": "code",
   "execution_count": 20,
   "id": "07f69d9e-f1ee-4a65-8293-e261b16a4965",
   "metadata": {},
   "outputs": [
    {
     "name": "stdout",
     "output_type": "stream",
     "text": [
      "[1 2 3 4 5]\n"
     ]
    },
    {
     "data": {
      "text/plain": [
       "array([ 2,  4,  6,  8, 10])"
      ]
     },
     "execution_count": 20,
     "metadata": {},
     "output_type": "execute_result"
    }
   ],
   "source": [
    "numbers = np.arange(1,6)\n",
    "print(numbers)\n",
    "numbers * 2"
   ]
  },
  {
   "cell_type": "code",
   "execution_count": 21,
   "id": "093be39c-a8f4-469f-8b32-5a427a99b3e7",
   "metadata": {},
   "outputs": [
    {
     "data": {
      "text/plain": [
       "array([  1,   8,  27,  64, 125], dtype=int32)"
      ]
     },
     "execution_count": 21,
     "metadata": {},
     "output_type": "execute_result"
    }
   ],
   "source": [
    "numbers**3"
   ]
  },
  {
   "cell_type": "code",
   "execution_count": 22,
   "id": "5361451e-975f-47a4-8b4b-497a984c149a",
   "metadata": {},
   "outputs": [
    {
     "name": "stdout",
     "output_type": "stream",
     "text": [
      "[1 2 3 4 5]\n"
     ]
    }
   ],
   "source": [
    "print(numbers)"
   ]
  },
  {
   "cell_type": "code",
   "execution_count": 23,
   "id": "478bc485-5581-4432-843f-9c45907b831d",
   "metadata": {},
   "outputs": [
    {
     "data": {
      "text/plain": [
       "array([11, 12, 13, 14, 15])"
      ]
     },
     "execution_count": 23,
     "metadata": {},
     "output_type": "execute_result"
    }
   ],
   "source": [
    "numbers+=10\n",
    "numbers"
   ]
  },
  {
   "cell_type": "code",
   "execution_count": 24,
   "id": "4f391888-b7da-4915-a008-f55048d65c51",
   "metadata": {},
   "outputs": [
    {
     "data": {
      "text/plain": [
       "array([22, 24, 26, 28, 30])"
      ]
     },
     "execution_count": 24,
     "metadata": {},
     "output_type": "execute_result"
    }
   ],
   "source": [
    "numbers * [2,2,2,2,2]"
   ]
  },
  {
   "cell_type": "code",
   "execution_count": 25,
   "id": "ce51f980-4bf1-4acb-90a1-899f66edf74a",
   "metadata": {},
   "outputs": [
    {
     "data": {
      "text/plain": [
       "array([1.1, 2.2, 3.3, 4.4, 5.5])"
      ]
     },
     "execution_count": 25,
     "metadata": {},
     "output_type": "execute_result"
    }
   ],
   "source": [
    "numbers2 = np.linspace(1.1,5.5,5)\n",
    "numbers2"
   ]
  },
  {
   "cell_type": "code",
   "execution_count": 26,
   "id": "e5b2353d-6453-44ba-b45e-548508b567d5",
   "metadata": {},
   "outputs": [
    {
     "data": {
      "text/plain": [
       "array([12.1, 26.4, 42.9, 61.6, 82.5])"
      ]
     },
     "execution_count": 26,
     "metadata": {},
     "output_type": "execute_result"
    }
   ],
   "source": [
    "numbers * numbers2"
   ]
  },
  {
   "cell_type": "code",
   "execution_count": 27,
   "id": "54e223c7-5b92-4a17-aa3d-cab4032a26f0",
   "metadata": {},
   "outputs": [
    {
     "name": "stdout",
     "output_type": "stream",
     "text": [
      "numbers>=13 : [False False  True  True  True]\n",
      "numbers2 <numbers : [ True  True  True  True  True]\n",
      "numbers == numbers2 : [False False False False False]\n",
      "numbers == numbers : [ True  True  True  True  True]\n"
     ]
    }
   ],
   "source": [
    "print(\"numbers>=13 :\",numbers>=13)\n",
    "print(\"numbers2 <numbers :\",numbers2 <numbers)\n",
    "print(\"numbers == numbers2 :\",numbers==numbers2)\n",
    "print(\"numbers == numbers :\",numbers==numbers)"
   ]
  },
  {
   "cell_type": "code",
   "execution_count": 28,
   "id": "0bff50c3-c48a-4365-a312-cc8a7135412f",
   "metadata": {},
   "outputs": [
    {
     "data": {
      "text/plain": [
       "array([[ 97,  99, 100,  63],\n",
       "       [ 83,  67,  98,  62],\n",
       "       [ 71,  73,  78,  75]])"
      ]
     },
     "execution_count": 28,
     "metadata": {},
     "output_type": "execute_result"
    }
   ],
   "source": [
    "grades = np.random.randint(60, 101, 12).reshape(3, 4)\n",
    "grades"
   ]
  },
  {
   "cell_type": "code",
   "execution_count": 29,
   "id": "a8ed78be-3946-4589-a6a1-df9b5b4db01d",
   "metadata": {},
   "outputs": [
    {
     "name": "stdout",
     "output_type": "stream",
     "text": [
      "grades.mean() : 80.5\n",
      "grades.mean(axis=0) : [83.66666667 79.66666667 92.         66.66666667]\n",
      "grades.mean(axis=1) : [89.75 77.5  74.25]\n"
     ]
    }
   ],
   "source": [
    "print(\"grades.mean() :\",grades.mean())\n",
    "print(\"grades.mean(axis=0) :\",grades.mean(axis=0))\n",
    "print(\"grades.mean(axis=1) :\",grades.mean(axis=1))"
   ]
  },
  {
   "cell_type": "code",
   "execution_count": 30,
   "id": "fc57d87e-72b0-49a6-bf57-6ad7e38be8c1",
   "metadata": {},
   "outputs": [
    {
     "data": {
      "text/plain": [
       "array([1., 2., 3., 4., 5., 6.])"
      ]
     },
     "execution_count": 30,
     "metadata": {},
     "output_type": "execute_result"
    }
   ],
   "source": [
    "numbers = np.array([1,4,9,16,25,36])\n",
    "np.sqrt(numbers)"
   ]
  },
  {
   "cell_type": "code",
   "execution_count": 31,
   "id": "c710df9b-1fe0-4560-bbb0-1e997a54bbff",
   "metadata": {},
   "outputs": [
    {
     "data": {
      "text/plain": [
       "array([10, 20, 30, 40, 50, 60])"
      ]
     },
     "execution_count": 31,
     "metadata": {},
     "output_type": "execute_result"
    }
   ],
   "source": [
    "numbers2 = np.arange(1, 7) * 10\n",
    "numbers2"
   ]
  },
  {
   "cell_type": "code",
   "execution_count": 32,
   "id": "ec26a91d-1cdb-470c-8c76-1aba93695652",
   "metadata": {},
   "outputs": [
    {
     "name": "stdout",
     "output_type": "stream",
     "text": [
      "np.add(numbers,numbers2) : [11 24 39 56 75 96]\n",
      "np.multiply(numbers2, 5) : [ 50 100 150 200 250 300]\n"
     ]
    }
   ],
   "source": [
    "print(\"np.add(numbers,numbers2) :\",np.add(numbers,numbers2))\n",
    "print(\"np.multiply(numbers2, 5) :\",np.multiply(numbers2, 5))"
   ]
  },
  {
   "cell_type": "code",
   "execution_count": 33,
   "id": "979b024e-094d-4257-9e94-646281ae0aee",
   "metadata": {},
   "outputs": [
    {
     "name": "stdout",
     "output_type": "stream",
     "text": [
      "numbers3 : [[10 20 30]\n",
      " [40 50 60]]\n",
      "numbers4 : [2 4 6]\n",
      "np.multiply(numbers3, numbers4) : [[ 20  80 180]\n",
      " [ 80 200 360]]\n"
     ]
    }
   ],
   "source": [
    "numbers3 = numbers2.reshape(2, 3)\n",
    "print(\"numbers3 :\",numbers3)\n",
    "numbers4 = np.array([2, 4, 6])\n",
    "print(\"numbers4 :\",numbers4)\n",
    "print(\"np.multiply(numbers3, numbers4) :\",np.multiply(numbers3, numbers4))"
   ]
  },
  {
   "cell_type": "code",
   "execution_count": 34,
   "id": "21988e2f-0945-4812-97b4-11166904d5bc",
   "metadata": {},
   "outputs": [
    {
     "name": "stdout",
     "output_type": "stream",
     "text": [
      "np.power(numbers_pow, 3) : [  1   8  27  64 125]\n"
     ]
    }
   ],
   "source": [
    "numbers_pow = np.arange(1, 6)\n",
    "print(\"np.power(numbers_pow, 3) :\",np.power(numbers_pow, 3))"
   ]
  },
  {
   "cell_type": "code",
   "execution_count": 35,
   "id": "3b0418ba-f563-4227-8f9c-9539be55e95e",
   "metadata": {},
   "outputs": [
    {
     "name": "stdout",
     "output_type": "stream",
     "text": [
      "Second Row : [ 6  7  8  9 10]\n",
      "First and Second : [[ 1  2  3  4  5]\n",
      " [11 12 13 14 15]]\n",
      "Middle Three columns : [[ 2  3  4]\n",
      " [ 7  8  9]\n",
      " [12 13 14]]\n"
     ]
    }
   ],
   "source": [
    "sample = np.array([[ 1, 2, 3, 4, 5],\n",
    " [ 6, 7, 8, 9, 10],\n",
    " [11, 12, 13, 14, 15]])\n",
    "print(\"Second Row :\", sample[1])\n",
    "print(\"First and Second :\",sample[[0,2]])\n",
    "print(\"Middle Three columns :\",sample[:,1:4])"
   ]
  },
  {
   "cell_type": "code",
   "execution_count": null,
   "id": "1cf8b982-f92b-4088-a3d9-003990cdc3e5",
   "metadata": {},
   "outputs": [],
   "source": []
  },
  {
   "cell_type": "code",
   "execution_count": null,
   "id": "945ef07c-9ccc-4f3e-a5dd-cc7e3e151a53",
   "metadata": {},
   "outputs": [],
   "source": []
  },
  {
   "cell_type": "code",
   "execution_count": null,
   "id": "1645312b-f9ea-44ba-9312-38634f91d3aa",
   "metadata": {},
   "outputs": [],
   "source": []
  },
  {
   "cell_type": "code",
   "execution_count": null,
   "id": "5a2f416a-e670-4320-a8a6-6f14cd14e9ca",
   "metadata": {},
   "outputs": [],
   "source": []
  },
  {
   "cell_type": "code",
   "execution_count": null,
   "id": "8052a84a-c667-4d92-94bd-4b2b1264c17c",
   "metadata": {},
   "outputs": [],
   "source": []
  },
  {
   "cell_type": "code",
   "execution_count": null,
   "id": "21c70807-d636-409b-94d4-f4accd98d043",
   "metadata": {},
   "outputs": [],
   "source": []
  },
  {
   "cell_type": "code",
   "execution_count": null,
   "id": "e84d4375-afc3-4940-a90a-e9c242b85e35",
   "metadata": {},
   "outputs": [],
   "source": []
  },
  {
   "cell_type": "code",
   "execution_count": null,
   "id": "ef42c6f6-fd0e-4d64-973d-1bbd2739eac4",
   "metadata": {},
   "outputs": [],
   "source": []
  },
  {
   "cell_type": "code",
   "execution_count": null,
   "id": "bb562462-db93-46d8-9dc8-a51fac3ae482",
   "metadata": {},
   "outputs": [],
   "source": []
  },
  {
   "cell_type": "code",
   "execution_count": null,
   "id": "020e4695-ee69-40cb-9232-f695f38a1da3",
   "metadata": {},
   "outputs": [],
   "source": []
  },
  {
   "cell_type": "code",
   "execution_count": null,
   "id": "004f8ce9-a3a0-48aa-a1ce-379760bc53b7",
   "metadata": {},
   "outputs": [],
   "source": []
  },
  {
   "cell_type": "code",
   "execution_count": null,
   "id": "61212f4e-7555-4473-a59b-32c5330de002",
   "metadata": {},
   "outputs": [],
   "source": []
  },
  {
   "cell_type": "code",
   "execution_count": null,
   "id": "ade26acb-52a0-4dbd-9007-2d059a0d1af6",
   "metadata": {},
   "outputs": [],
   "source": []
  },
  {
   "cell_type": "code",
   "execution_count": null,
   "id": "abffbc35-be96-4280-842d-82d04520e612",
   "metadata": {},
   "outputs": [],
   "source": []
  },
  {
   "cell_type": "code",
   "execution_count": null,
   "id": "f11fd3aa-8435-45f2-b649-1f6347fd18b2",
   "metadata": {},
   "outputs": [],
   "source": []
  },
  {
   "cell_type": "code",
   "execution_count": null,
   "id": "000b868f-2b0c-4f6a-af43-71e875843616",
   "metadata": {},
   "outputs": [],
   "source": []
  },
  {
   "cell_type": "code",
   "execution_count": null,
   "id": "5799c00f-6164-4c88-bfac-11c37454ecd1",
   "metadata": {},
   "outputs": [],
   "source": []
  },
  {
   "cell_type": "code",
   "execution_count": null,
   "id": "3b3ba06a-4712-434a-8017-9312bea6f7e7",
   "metadata": {},
   "outputs": [],
   "source": []
  },
  {
   "cell_type": "code",
   "execution_count": null,
   "id": "f864a263-c927-49f3-ab92-f61894551259",
   "metadata": {},
   "outputs": [],
   "source": []
  },
  {
   "cell_type": "code",
   "execution_count": null,
   "id": "92ffb723-b0c1-4ac8-b730-09aff703ec1b",
   "metadata": {},
   "outputs": [],
   "source": []
  },
  {
   "cell_type": "code",
   "execution_count": null,
   "id": "7e516612-021e-4f3d-b769-c9457bfb4037",
   "metadata": {},
   "outputs": [],
   "source": []
  },
  {
   "cell_type": "code",
   "execution_count": null,
   "id": "11c6dc14-897b-4c99-829d-453a1cbf7b8d",
   "metadata": {},
   "outputs": [],
   "source": []
  },
  {
   "cell_type": "code",
   "execution_count": null,
   "id": "44ff74a2-93ff-4f7d-ae8b-26f26ce7af54",
   "metadata": {},
   "outputs": [],
   "source": []
  },
  {
   "cell_type": "code",
   "execution_count": null,
   "id": "db750e8d-0db5-4ee2-a7c7-39b088883da1",
   "metadata": {},
   "outputs": [],
   "source": []
  },
  {
   "cell_type": "code",
   "execution_count": null,
   "id": "d62e930d-a74e-4494-b36d-95ac3e5357bb",
   "metadata": {},
   "outputs": [],
   "source": []
  },
  {
   "cell_type": "code",
   "execution_count": null,
   "id": "2e16594e-df69-4220-ac4c-7500c8d58166",
   "metadata": {},
   "outputs": [],
   "source": []
  },
  {
   "cell_type": "code",
   "execution_count": null,
   "id": "1f3e3ccc-e3e3-4524-9fe9-c5f71ea33f3a",
   "metadata": {},
   "outputs": [],
   "source": []
  },
  {
   "cell_type": "code",
   "execution_count": null,
   "id": "06a5e970-0b8e-482d-bede-f832853aae58",
   "metadata": {},
   "outputs": [],
   "source": []
  },
  {
   "cell_type": "code",
   "execution_count": null,
   "id": "8996da31-35b4-4e0c-8ced-299b2d809551",
   "metadata": {},
   "outputs": [],
   "source": []
  },
  {
   "cell_type": "code",
   "execution_count": null,
   "id": "7c9a53e8-db4f-4732-8325-8ac622ad90d1",
   "metadata": {},
   "outputs": [],
   "source": []
  },
  {
   "cell_type": "code",
   "execution_count": null,
   "id": "7a72e6e0-7467-40ec-83ab-11ec614fe607",
   "metadata": {},
   "outputs": [],
   "source": []
  },
  {
   "cell_type": "code",
   "execution_count": null,
   "id": "cdc68c0f-dced-4a13-aefb-b150bae5ac30",
   "metadata": {},
   "outputs": [],
   "source": []
  }
 ],
 "metadata": {
  "kernelspec": {
   "display_name": "Python 3 (ipykernel)",
   "language": "python",
   "name": "python3"
  },
  "language_info": {
   "codemirror_mode": {
    "name": "ipython",
    "version": 3
   },
   "file_extension": ".py",
   "mimetype": "text/x-python",
   "name": "python",
   "nbconvert_exporter": "python",
   "pygments_lexer": "ipython3",
   "version": "3.9.12"
  }
 },
 "nbformat": 4,
 "nbformat_minor": 5
}
